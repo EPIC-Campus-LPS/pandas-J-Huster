{
 "cells": [
  {
   "cell_type": "markdown",
   "metadata": {},
   "source": [
    "# Lab 0.5 - Manipulating Datasets with Pandas\n",
    "\n",
    "## Objective\n",
    "- Install and learn the basics of the `pandas` library.\n",
    "- Manipulate and analyze datasets, finding basic statistics and adding/removing columns.\n",
    "- Create data visualizations using `matplotlib`.\n",
    "\n",
    "## Rubric\n",
    "- 6 pts - Contains all required components and uses professional language and commenting\n",
    "- 5 pts - Contains all required components, but uses unprofessional language, commenting, etc. \n",
    "- 4 pts - Contains some, but not all, of the required components\n",
    "- 3 pts - Did not submit"
   ]
  },
  {
   "cell_type": "markdown",
   "metadata": {},
   "source": [
    "# Instructions\n",
    "\n",
    "Fill in the following code boxes. **Answer the numbered questions in comments next to the code you used to find the answer**."
   ]
  },
  {
   "cell_type": "markdown",
   "metadata": {},
   "source": [
    "# Problem 1: Weather Data\n",
    "\n",
    "We are going to analyze the dataset you created. Use `import pandas as pd` to import the `pandas` library. Then use `df = pd.read_csv(\"filename.csv\")` to create a `DataFrame` called `df`. "
   ]
  },
  {
   "cell_type": "code",
   "execution_count": 12,
   "metadata": {},
   "outputs": [],
   "source": [
    "import pandas as pd\n",
    "df = pd.read_csv(\"AveragedDate.csv\")"
   ]
  },
  {
   "cell_type": "markdown",
   "metadata": {},
   "source": [
    "### `pandas` method reference\n",
    "\n",
    "- `df.head(x)` and `df.tail(x)` will give you the first or the last `x` number of rows respectively\n",
    "- `df.describe()` will give you a **five number summary** of the numeric columns\n",
    "- `df.max()` and `.min()` will with you the maximum and the minimum of the column repectively\n",
    "- `df[column]` will give you the column specified\n",
    "- `df.iloc[index]` will give you the row at a given index\n",
    "- `df.boxplot` will create a box plot of all numeric columns\n",
    "- `df.sort_values(by=col, ascending=False)`sorts the values of the col in either ascending or descending order\n"
   ]
  },
  {
   "cell_type": "markdown",
   "metadata": {},
   "source": [
    "1. What is the last entry in your table?"
   ]
  },
  {
   "cell_type": "code",
   "execution_count": 13,
   "metadata": {},
   "outputs": [
    {
     "data": {
      "text/html": [
       "<div>\n",
       "<style scoped>\n",
       "    .dataframe tbody tr th:only-of-type {\n",
       "        vertical-align: middle;\n",
       "    }\n",
       "\n",
       "    .dataframe tbody tr th {\n",
       "        vertical-align: top;\n",
       "    }\n",
       "\n",
       "    .dataframe thead th {\n",
       "        text-align: right;\n",
       "    }\n",
       "</style>\n",
       "<table border=\"1\" class=\"dataframe\">\n",
       "  <thead>\n",
       "    <tr style=\"text-align: right;\">\n",
       "      <th></th>\n",
       "      <th>Time</th>\n",
       "      <th>Date</th>\n",
       "      <th>Temp °C</th>\n",
       "      <th>Temp °F</th>\n",
       "      <th>Humidity</th>\n",
       "    </tr>\n",
       "  </thead>\n",
       "  <tbody>\n",
       "    <tr>\n",
       "      <th>527</th>\n",
       "      <td>8:48:05</td>\n",
       "      <td>2025-01-31</td>\n",
       "      <td>22.5</td>\n",
       "      <td>72.5</td>\n",
       "      <td>13.5</td>\n",
       "    </tr>\n",
       "  </tbody>\n",
       "</table>\n",
       "</div>"
      ],
      "text/plain": [
       "        Time        Date  Temp °C  Temp °F  Humidity\n",
       "527  8:48:05  2025-01-31     22.5     72.5      13.5"
      ]
     },
     "execution_count": 13,
     "metadata": {},
     "output_type": "execute_result"
    }
   ],
   "source": [
    "import pandas as pd\n",
    "df = pd.read_csv(\"AveragedDate.csv\")\n",
    "df.head(1)\n",
    "df.tail(1)"
   ]
  },
  {
   "cell_type": "markdown",
   "metadata": {},
   "source": [
    "2. What is the average temperature(either outside or inside) over your 40 hour period. What is the lowest temperature? What is the highest temperature? "
   ]
  },
  {
   "cell_type": "code",
   "execution_count": 14,
   "metadata": {},
   "outputs": [
    {
     "name": "stdout",
     "output_type": "stream",
     "text": [
      "Average: 71.62164772727274\n",
      "Lowest: 69.71\n",
      "Highest: 77.45\n"
     ]
    }
   ],
   "source": [
    "import pandas as pd\n",
    "df = pd.read_csv(\"AveragedDate.csv\")\n",
    "total = 0\n",
    "count = 0\n",
    "column = df[\"Temp °F\"]\n",
    "for t in column:\n",
    "    total += t\n",
    "    count += 1\n",
    "average = total / count\n",
    "print(f\"Average: {average}\")\n",
    "print(f\"Lowest: {column.min()}\")\n",
    "print(f\"Highest: {column.max()}\")"
   ]
  },
  {
   "cell_type": "markdown",
   "metadata": {},
   "source": [
    "3. Create a boxplot of the temperatures."
   ]
  },
  {
   "cell_type": "code",
   "execution_count": 15,
   "metadata": {},
   "outputs": [
    {
     "data": {
      "text/plain": [
       "<AxesSubplot: title={'center': 'Change in Temp. Over Time'}, xlabel='Time', ylabel='Kelvin'>"
      ]
     },
     "execution_count": 15,
     "metadata": {},
     "output_type": "execute_result"
    }
   ],
   "source": [
    "import pandas as pd\n",
    "df = pd.read_csv(\"AveragedDate.csv\")\n",
    "df.boxplot()"
   ]
  },
  {
   "cell_type": "markdown",
   "metadata": {},
   "source": [
    "4. Create a plot of temperature over time with `matplotlib`. \n",
    "\n",
    "Import the library with `import matplotlib.pyplot as plt`. The `plot()` method creates a line graphs of temperature over time. Use `plt.plot(df['x_col'],df['y_col'],marker='h')` then `plt.show()` to create your plot of temperature over time. \n",
    "\n",
    "Before `plt.show()`, add the following methods to modify your graph. Remember, **good graphs always have axis labels, a title, clear units etc.**\n",
    "\n",
    "```\n",
    "plt.xlabel('') # labels the x-axis\n",
    "plt.ylabel('') # labels the y-axis\n",
    "plt.title('') # adds a graph title\n",
    "plt.grid() # adds gridlines\n",
    "plt.legend() # adds a legend\n",
    "plt.xticks(rotation=90) # rotates the x-axis tick lables\n",
    "plt.yticks(rotation=90) # rotates the y-axis tick lables\n",
    "```"
   ]
  },
  {
   "cell_type": "code",
   "execution_count": 16,
   "metadata": {},
   "outputs": [
    {
     "name": "stderr",
     "output_type": "stream",
     "text": [
      "No artists with labels found to put in legend.  Note that artists whose label start with an underscore are ignored when legend() is called with no argument.\n"
     ]
    },
    {
     "data": {
      "image/png": "[encoded data removed]",
      "text/plain": [
       "<Figure size 640x480 with 1 Axes>"
      ]
     },
     "metadata": {},
     "output_type": "display_data"
    }
   ],
   "source": [
    "import matplotlib.pyplot as plt\n",
    "import pandas as pd\n",
    "df = pd.read_csv(\"AveragedDate.csv\")\n",
    "plt.plot(df['Time'],df['Temp °C'],marker='h')\n",
    "plt.xlabel('Time') # labels the x-axis\n",
    "plt.ylabel('Temp °C') # labels the y-axis\n",
    "plt.title('Change in Temp. Over Time') # adds a graph title\n",
    "plt.grid() # adds gridlines\n",
    "plt.legend() # adds a legend\n",
    "plt.xticks(rotation=90) # rotates the x-axis tick lables\n",
    "plt.yticks(rotation=90) # rotates the y-axis tick lables\n",
    "plt.show()"
   ]
  },
  {
   "cell_type": "markdown",
   "metadata": {},
   "source": [
    "5. Define a new column called `kelvin` which is your `celsius` column + 273.15. "
   ]
  },
  {
   "cell_type": "code",
   "execution_count": 17,
   "metadata": {},
   "outputs": [
    {
     "name": "stderr",
     "output_type": "stream",
     "text": [
      "No artists with labels found to put in legend.  Note that artists whose label start with an underscore are ignored when legend() is called with no argument.\n"
     ]
    },
    {
     "data": {
      "image/png": "[encoded data removed]",
      "text/plain": [
       "<Figure size 640x480 with 1 Axes>"
      ]
     },
     "metadata": {},
     "output_type": "display_data"
    }
   ],
   "source": [
    "import matplotlib.pyplot as plt\n",
    "import pandas as pd\n",
    "df = pd.read_csv(\"AveragedDate.csv\")\n",
    "kelvin = []\n",
    "for k in df['Temp °C']:\n",
    "    k += 273.15\n",
    "    kelvin.append(k)\n",
    "plt.plot(df['Time'],kelvin,marker='h')\n",
    "plt.xlabel('Time') # labels the x-axis\n",
    "plt.ylabel('Kelvin') # labels the y-axis\n",
    "plt.title('Change in Temp. Over Time') # adds a graph title\n",
    "plt.grid() # adds gridlines\n",
    "plt.legend() # adds a legend\n",
    "plt.xticks(rotation=90) # rotates the x-axis tick lables\n",
    "plt.yticks(rotation=90) # rotates the y-axis tick lables\n",
    "plt.show()"
   ]
  },
  {
   "cell_type": "markdown",
   "metadata": {},
   "source": [
    "6. Get the record(row) at 2:30PM \n"
   ]
  },
  {
   "cell_type": "code",
   "execution_count": 18,
   "metadata": {},
   "outputs": [
    {
     "name": "stderr",
     "output_type": "stream",
     "text": [
      "No artists with labels found to put in legend.  Note that artists whose label start with an underscore are ignored when legend() is called with no argument.\n"
     ]
    },
    {
     "data": {
      "text/html": [
       "<div>\n",
       "<style scoped>\n",
       "    .dataframe tbody tr th:only-of-type {\n",
       "        vertical-align: middle;\n",
       "    }\n",
       "\n",
       "    .dataframe tbody tr th {\n",
       "        vertical-align: top;\n",
       "    }\n",
       "\n",
       "    .dataframe thead th {\n",
       "        text-align: right;\n",
       "    }\n",
       "</style>\n",
       "<table border=\"1\" class=\"dataframe\">\n",
       "  <thead>\n",
       "    <tr style=\"text-align: right;\">\n",
       "      <th></th>\n",
       "      <th>Time</th>\n",
       "      <th>Date</th>\n",
       "      <th>Temp °C</th>\n",
       "      <th>Temp °F</th>\n",
       "      <th>Humidity</th>\n",
       "    </tr>\n",
       "  </thead>\n",
       "  <tbody>\n",
       "    <tr>\n",
       "      <th>14</th>\n",
       "      <td>12:13:39</td>\n",
       "      <td>2025-01-29</td>\n",
       "      <td>22.7</td>\n",
       "      <td>72.86</td>\n",
       "      <td>15.5</td>\n",
       "    </tr>\n",
       "  </tbody>\n",
       "</table>\n",
       "</div>"
      ],
      "text/plain": [
       "        Time        Date  Temp °C  Temp °F  Humidity\n",
       "14  12:13:39  2025-01-29     22.7    72.86      15.5"
      ]
     },
     "execution_count": 18,
     "metadata": {},
     "output_type": "execute_result"
    }
   ],
   "source": [
    "import matplotlib.pyplot as plt\n",
    "import pandas as pd\n",
    "df = pd.read_csv(\"AveragedDate.csv\")\n",
    "kelvin = []\n",
    "for k in df['Temp °C']:\n",
    "    k += 273.15\n",
    "    kelvin.append(k)\n",
    "plt.plot(df['Time'],kelvin,marker='h')\n",
    "plt.xlabel('Time') # labels the x-axis\n",
    "plt.ylabel('Kelvin') # labels the y-axis\n",
    "plt.title('Change in Temp. Over Time') # adds a graph title\n",
    "plt.grid() # adds gridlines\n",
    "plt.legend() # adds a legend\n",
    "plt.xticks(rotation=90) # rotates the x-axis tick lables\n",
    "plt.yticks(rotation=90) # rotates the y-axis tick lables\n",
    "df.iloc[14:33:53]"
   ]
  },
  {
   "cell_type": "markdown",
   "metadata": {},
   "source": [
    "# Problem 2: Population Data\n",
    "\n",
    "In this example we will fetch data about countries and their predicted populations from [Wikipedia](http://en.wikipedia.org/wiki/List_of_countries_by_past_and_future_population).\n",
    "\n",
    "I have done the web scraping and creation of a `DataFrame`,`df_a`."
   ]
  },
  {
   "cell_type": "code",
   "execution_count": 19,
   "metadata": {},
   "outputs": [],
   "source": [
    "import numpy as np\n",
    "import pandas as pd\n",
    "import requests\n",
    "from bs4 import BeautifulSoup\n",
    "\n",
    "url = 'http://en.wikipedia.org/wiki/List_of_countries_by_past_and_future_population'\n",
    "page = requests.get(url)\n",
    "soup = BeautifulSoup(page.content, \"html.parser\")\n",
    "\n",
    "tbody = soup.find_all(\"tbody\")\n",
    "tr = tbody[0].find_all(\"tr\")\n",
    "\n",
    "mat = []\n",
    "\n",
    "for t in tr:\n",
    "    lst = [item.strip() for item in t.text.split(\"\\n\") if item.strip() != \"\"] \n",
    "    arr = []\n",
    "\n",
    "    for l in lst:\n",
    "        try: \n",
    "            arr.append(int(l.replace(\"\\xa0\", \"\").replace(\",\", \"\"))) \n",
    "        except ValueError:\n",
    "            arr.append(l.strip())  \n",
    "\n",
    "    if arr:\n",
    "        arr = arr[:2] + arr[2::2] \n",
    "        mat.append(arr)\n",
    "\n",
    "titles = [str(title) for title in mat[0]]\n",
    "titles[0] = \"countries\"  \n",
    "\n",
    "mat = mat[1:]  \n",
    "\n",
    "df_a = pd.DataFrame.from_records(mat, columns=titles)\n",
    "\n",
    "for col in df_a.columns[1:]:\n",
    "    df_a[col] = pd.to_numeric(df_a[col], errors=\"coerce\") \n"
   ]
  },
  {
   "cell_type": "markdown",
   "metadata": {},
   "source": [
    "1. A 5 number summary of `df_a`"
   ]
  },
  {
   "cell_type": "code",
   "execution_count": 20,
   "metadata": {},
   "outputs": [
    {
     "data": {
      "text/html": [
       "<div>\n",
       "<style scoped>\n",
       "    .dataframe tbody tr th:only-of-type {\n",
       "        vertical-align: middle;\n",
       "    }\n",
       "\n",
       "    .dataframe tbody tr th {\n",
       "        vertical-align: top;\n",
       "    }\n",
       "\n",
       "    .dataframe thead th {\n",
       "        text-align: right;\n",
       "    }\n",
       "</style>\n",
       "<table border=\"1\" class=\"dataframe\">\n",
       "  <thead>\n",
       "    <tr style=\"text-align: right;\">\n",
       "      <th></th>\n",
       "      <th>2024</th>\n",
       "      <th>2030</th>\n",
       "      <th>2100</th>\n",
       "    </tr>\n",
       "  </thead>\n",
       "  <tbody>\n",
       "    <tr>\n",
       "      <th>count</th>\n",
       "      <td>2.580000e+02</td>\n",
       "      <td>2.580000e+02</td>\n",
       "      <td>2.580000e+02</td>\n",
       "    </tr>\n",
       "    <tr>\n",
       "      <th>mean</th>\n",
       "      <td>1.409838e+08</td>\n",
       "      <td>1.483421e+08</td>\n",
       "      <td>2.564182e+08</td>\n",
       "    </tr>\n",
       "    <tr>\n",
       "      <th>std</th>\n",
       "      <td>6.587727e+08</td>\n",
       "      <td>6.906787e+08</td>\n",
       "      <td>1.679245e+09</td>\n",
       "    </tr>\n",
       "    <tr>\n",
       "      <th>min</th>\n",
       "      <td>5.260000e+02</td>\n",
       "      <td>5.610000e+02</td>\n",
       "      <td>1.237000e+03</td>\n",
       "    </tr>\n",
       "    <tr>\n",
       "      <th>25%</th>\n",
       "      <td>5.999040e+05</td>\n",
       "      <td>6.259820e+05</td>\n",
       "      <td>6.768595e+05</td>\n",
       "    </tr>\n",
       "    <tr>\n",
       "      <th>50%</th>\n",
       "      <td>6.893438e+06</td>\n",
       "      <td>7.254900e+06</td>\n",
       "      <td>8.156020e+06</td>\n",
       "    </tr>\n",
       "    <tr>\n",
       "      <th>75%</th>\n",
       "      <td>3.483818e+07</td>\n",
       "      <td>3.830878e+07</td>\n",
       "      <td>5.201191e+07</td>\n",
       "    </tr>\n",
       "    <tr>\n",
       "      <th>max</th>\n",
       "      <td>8.118836e+09</td>\n",
       "      <td>8.546141e+09</td>\n",
       "      <td>2.290128e+10</td>\n",
       "    </tr>\n",
       "  </tbody>\n",
       "</table>\n",
       "</div>"
      ],
      "text/plain": [
       "               2024          2030          2100\n",
       "count  2.580000e+02  2.580000e+02  2.580000e+02\n",
       "mean   1.409838e+08  1.483421e+08  2.564182e+08\n",
       "std    6.587727e+08  6.906787e+08  1.679245e+09\n",
       "min    5.260000e+02  5.610000e+02  1.237000e+03\n",
       "25%    5.999040e+05  6.259820e+05  6.768595e+05\n",
       "50%    6.893438e+06  7.254900e+06  8.156020e+06\n",
       "75%    3.483818e+07  3.830878e+07  5.201191e+07\n",
       "max    8.118836e+09  8.546141e+09  2.290128e+10"
      ]
     },
     "execution_count": 20,
     "metadata": {},
     "output_type": "execute_result"
    }
   ],
   "source": [
    "df_a.describe()"
   ]
  },
  {
   "cell_type": "markdown",
   "metadata": {},
   "source": [
    "2. How is the `DataFrame` currently indexed? If it is not already, make the `countries` column the index."
   ]
  },
  {
   "cell_type": "code",
   "execution_count": 21,
   "metadata": {},
   "outputs": [
    {
     "name": "stdout",
     "output_type": "stream",
     "text": [
      "                                   2024        2030         2100\n",
      "countries                                                       \n",
      "World                        8118836000  8546141000  22901278109\n",
      "Asia                         4785060000  4958807000  12902801109\n",
      "Africa                       1494994000  1710666000   3924421000\n",
      "Sub-Saharan Africa           1226534000  1417346000   3442347000\n",
      "Central Asia and South Asia  2128585000  2258687000   2559659000\n",
      "...                                 ...         ...          ...\n",
      "Venezuela                      29395334    32027461     35353213\n",
      "Vietnam                        99497680   102699905     91036732\n",
      "Yemen                          35219853    39923245     74176034\n",
      "Zambia                         21314956    25024901     64473916\n",
      "Zimbabwe                       16634373    18610348     37166572\n",
      "\n",
      "[258 rows x 3 columns]\n"
     ]
    }
   ],
   "source": [
    "df_a.set_index('countries', inplace=True)\n",
    "\n",
    "print(df_a)"
   ]
  },
  {
   "cell_type": "markdown",
   "metadata": {},
   "source": [
    "3. What is the largest population listed for 2030?"
   ]
  },
  {
   "cell_type": "code",
   "execution_count": 22,
   "metadata": {},
   "outputs": [
    {
     "data": {
      "text/plain": [
       "8546141000"
      ]
     },
     "execution_count": 22,
     "metadata": {},
     "output_type": "execute_result"
    }
   ],
   "source": [
    "df_a[\"2030\"].max()"
   ]
  },
  {
   "cell_type": "markdown",
   "metadata": {},
   "source": [
    "4. What was the population of Austria from now to 2100?"
   ]
  },
  {
   "cell_type": "code",
   "execution_count": 25,
   "metadata": {},
   "outputs": [
    {
     "data": {
      "text/plain": [
       "2024    9120813\n",
       "2030    9080346\n",
       "2100    7399328\n",
       "Name: Austria, dtype: int64"
      ]
     },
     "execution_count": 25,
     "metadata": {},
     "output_type": "execute_result"
    }
   ],
   "source": [
    "#df_a.set_index('countries', inplace=True)\n",
    "df_a.loc[\"Austria\"]"
   ]
  },
  {
   "cell_type": "markdown",
   "metadata": {},
   "source": [
    "5. What will the population be of France in 2030?"
   ]
  },
  {
   "cell_type": "code",
   "execution_count": 30,
   "metadata": {},
   "outputs": [
    {
     "data": {
      "text/plain": [
       "65543452"
      ]
     },
     "execution_count": 30,
     "metadata": {},
     "output_type": "execute_result"
    }
   ],
   "source": [
    "france = df_a.loc[\"France\"]\n",
    "france[\"2030\"]"
   ]
  },
  {
   "cell_type": "markdown",
   "metadata": {},
   "source": [
    "6. What 5 entries will have the highest population in 2100? Display their records."
   ]
  },
  {
   "cell_type": "code",
   "execution_count": 35,
   "metadata": {},
   "outputs": [
    {
     "data": {
      "text/plain": [
       "countries\n",
       "World                          22901278109\n",
       "Asia                           12902801109\n",
       "Africa                          3924421000\n",
       "Sub-Saharan Africa              3442347000\n",
       "Central Asia and South Asia     2559659000\n",
       "Name: 2100, dtype: int64"
      ]
     },
     "execution_count": 35,
     "metadata": {},
     "output_type": "execute_result"
    }
   ],
   "source": [
    "df_a.sort_values(by=\"2100\", ascending=True)\n",
    "col = df_a[\"2100\"]\n",
    "col.head(5)"
   ]
  },
  {
   "cell_type": "markdown",
   "metadata": {},
   "source": [
    "7. What was country with the smallest population in 2024?"
   ]
  },
  {
   "cell_type": "code",
   "execution_count": 38,
   "metadata": {},
   "outputs": [
    {
     "data": {
      "text/plain": [
       "526"
      ]
     },
     "execution_count": 38,
     "metadata": {},
     "output_type": "execute_result"
    }
   ],
   "source": [
    "df_a['2024'].min()"
   ]
  },
  {
   "cell_type": "markdown",
   "metadata": {},
   "source": [
    "### `pandas` method reference\n",
    "\n",
    "- `df.head(x)` and `df.tail(x)` will give you the first or the last `x` number of rows respectively\n",
    "- `df.describe()` will give you a **five number summary** of the numeric columns\n",
    "- `df.max()` and `.min()` will with you the maximum and the minimum of the column repectively\n",
    "- `df[column]` will give you the column specified\n",
    "- `df.iloc[index]` will give you the row at a given index\n",
    "- `df.boxplot` will create a box plot of all numeric columns\n",
    "- `df.sort_values(by=col, ascending=False)`sorts the values of the col in either ascending or descending order\n",
    "\n",
    "Import the library with `import matplotlib.pyplot as plt`. The `plot()` method creates a line graphs of temperature over time. Use `plt.plot(df['x_col'],df['y_col'],marker='h')` then `plt.show()` to create your plot of temperature over time. \n",
    "\n",
    "Before `plt.show()`, add the following methods to modify your graph. Remember, **good graphs always have axis labels, a title, clear units etc.**\n",
    "\n",
    "```\n",
    "plt.xlabel('') # labels the x-axis\n",
    "plt.ylabel('') # labels the y-axis\n",
    "plt.title('') # adds a graph title\n",
    "plt.grid() # adds gridlines\n",
    "plt.legend() # adds a legend\n",
    "plt.xticks(rotation=90) # rotates the x-axis tick lables\n",
    "plt.yticks(rotation=90) # rotates the y-axis tick lables\n",
    "```"
   ]
  },
  {
   "cell_type": "markdown",
   "metadata": {},
   "source": [
    "8. Create a plot with `plot()` to compare the population of Austria, Germany, United States, and France from 2024-2100. Your graph needs to include a  proper title, axis labels, and legend."
   ]
  },
  {
   "cell_type": "code",
   "execution_count": null,
   "metadata": {},
   "outputs": [
    {
     "name": "stdout",
     "output_type": "stream",
     "text": [
      "                                   2024        2030         2100\n",
      "countries                                                       \n",
      "World                        8118836000  8546141000  22901278109\n",
      "Asia                         4785060000  4958807000  12902801109\n",
      "Africa                       1494994000  1710666000   3924421000\n",
      "Sub-Saharan Africa           1226534000  1417346000   3442347000\n",
      "Central Asia and South Asia  2128585000  2258687000   2559659000\n",
      "...                                 ...         ...          ...\n",
      "Venezuela                      29395334    32027461     35353213\n",
      "Vietnam                        99497680   102699905     91036732\n",
      "Yemen                          35219853    39923245     74176034\n",
      "Zambia                         21314956    25024901     64473916\n",
      "Zimbabwe                       16634373    18610348     37166572\n",
      "\n",
      "[258 rows x 3 columns]\n"
     ]
    },
    {
     "ename": "TypeError",
     "evalue": "Cannot index by location index with a non-integer key",
     "output_type": "error",
     "traceback": [
      "\u001b[0;31m---------------------------------------------------------------------------\u001b[0m",
      "\u001b[0;31mTypeError\u001b[0m                                 Traceback (most recent call last)",
      "Cell \u001b[0;32mIn[68], line 11\u001b[0m\n\u001b[1;32m      6\u001b[0m \u001b[38;5;66;03m#data = df_a([austria], [germany], [states], [france], columns=[2024, 2030, 2100])\u001b[39;00m\n\u001b[1;32m      7\u001b[0m \u001b[38;5;66;03m#print(austria)\u001b[39;00m\n\u001b[1;32m      9\u001b[0m \u001b[38;5;28mprint\u001b[39m(df_a)\n\u001b[0;32m---> 11\u001b[0m plt\u001b[38;5;241m.\u001b[39mplot(\u001b[43mdf_a\u001b[49m\u001b[38;5;241;43m.\u001b[39;49m\u001b[43miloc\u001b[49m\u001b[43m[\u001b[49m\u001b[38;5;124;43m'\u001b[39;49m\u001b[38;5;124;43m'\u001b[39;49m\u001b[43m]\u001b[49m, use_index\u001b[38;5;241m=\u001b[39m\u001b[38;5;28;01mTrue\u001b[39;00m, marker\u001b[38;5;241m=\u001b[39m\u001b[38;5;124m'\u001b[39m\u001b[38;5;124mh\u001b[39m\u001b[38;5;124m'\u001b[39m)\n\u001b[1;32m     12\u001b[0m plt\u001b[38;5;241m.\u001b[39mxlabel(\u001b[38;5;124m'\u001b[39m\u001b[38;5;124mx-axis\u001b[39m\u001b[38;5;124m'\u001b[39m)\n\u001b[1;32m     13\u001b[0m plt\u001b[38;5;241m.\u001b[39mylabel(\u001b[38;5;124m'\u001b[39m\u001b[38;5;124my-axis\u001b[39m\u001b[38;5;124m'\u001b[39m)\n",
      "File \u001b[0;32m/usr/lib/python3/dist-packages/pandas/core/indexing.py:1153\u001b[0m, in \u001b[0;36m_LocationIndexer.__getitem__\u001b[0;34m(self, key)\u001b[0m\n\u001b[1;32m   1150\u001b[0m axis \u001b[38;5;241m=\u001b[39m \u001b[38;5;28mself\u001b[39m\u001b[38;5;241m.\u001b[39maxis \u001b[38;5;129;01mor\u001b[39;00m \u001b[38;5;241m0\u001b[39m\n\u001b[1;32m   1152\u001b[0m maybe_callable \u001b[38;5;241m=\u001b[39m com\u001b[38;5;241m.\u001b[39mapply_if_callable(key, \u001b[38;5;28mself\u001b[39m\u001b[38;5;241m.\u001b[39mobj)\n\u001b[0;32m-> 1153\u001b[0m \u001b[38;5;28;01mreturn\u001b[39;00m \u001b[38;5;28;43mself\u001b[39;49m\u001b[38;5;241;43m.\u001b[39;49m\u001b[43m_getitem_axis\u001b[49m\u001b[43m(\u001b[49m\u001b[43mmaybe_callable\u001b[49m\u001b[43m,\u001b[49m\u001b[43m \u001b[49m\u001b[43maxis\u001b[49m\u001b[38;5;241;43m=\u001b[39;49m\u001b[43maxis\u001b[49m\u001b[43m)\u001b[49m\n",
      "File \u001b[0;32m/usr/lib/python3/dist-packages/pandas/core/indexing.py:1711\u001b[0m, in \u001b[0;36m_iLocIndexer._getitem_axis\u001b[0;34m(self, key, axis)\u001b[0m\n\u001b[1;32m   1709\u001b[0m key \u001b[38;5;241m=\u001b[39m item_from_zerodim(key)\n\u001b[1;32m   1710\u001b[0m \u001b[38;5;28;01mif\u001b[39;00m \u001b[38;5;129;01mnot\u001b[39;00m is_integer(key):\n\u001b[0;32m-> 1711\u001b[0m     \u001b[38;5;28;01mraise\u001b[39;00m \u001b[38;5;167;01mTypeError\u001b[39;00m(\u001b[38;5;124m\"\u001b[39m\u001b[38;5;124mCannot index by location index with a non-integer key\u001b[39m\u001b[38;5;124m\"\u001b[39m)\n\u001b[1;32m   1713\u001b[0m \u001b[38;5;66;03m# validate the location\u001b[39;00m\n\u001b[1;32m   1714\u001b[0m \u001b[38;5;28mself\u001b[39m\u001b[38;5;241m.\u001b[39m_validate_integer(key, axis)\n",
      "\u001b[0;31mTypeError\u001b[0m: Cannot index by location index with a non-integer key"
     ]
    }
   ],
   "source": [
    "#data = df_a([austria], [germany], [states], [france], columns=[2024, 2030, 2100])\n",
    "#print(austria)\n",
    "\n",
    "print(df_a)\n",
    "\n",
    "plt.plot(df_a.iloc[''], use_index=True, marker='h')\n",
    "plt.xlabel('x-axis')\n",
    "plt.ylabel('y-axis')\n",
    "plt.title('title')\n",
    "plt.grid()\n",
    "plt.legend()\n",
    "plt.show()"
   ]
  }
 ],
 "metadata": {
  "kernelspec": {
   "display_name": "Python 3",
   "language": "python",
   "name": "python3"
  },
  "language_info": {
   "codemirror_mode": {
    "name": "ipython",
    "version": 3
   },
   "file_extension": ".py",
   "mimetype": "text/x-python",
   "name": "python",
   "nbconvert_exporter": "python",
   "pygments_lexer": "ipython3",
   "version": "3.12.3"
  }
 },
 "nbformat": 4,
 "nbformat_minor": 2
}
